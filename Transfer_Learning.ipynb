{
  "nbformat": 4,
  "nbformat_minor": 0,
  "metadata": {
    "kernelspec": {
      "display_name": "Python 3",
      "language": "python",
      "name": "python3"
    },
    "language_info": {
      "codemirror_mode": {
        "name": "ipython",
        "version": 3
      },
      "file_extension": ".py",
      "mimetype": "text/x-python",
      "name": "python",
      "nbconvert_exporter": "python",
      "pygments_lexer": "ipython3",
      "version": "3.6.2"
    },
    "colab": {
      "name": "Transfer Learning.ipynb",
      "provenance": [],
      "include_colab_link": true
    }
  },
  "cells": [
    {
      "cell_type": "markdown",
      "metadata": {
        "id": "view-in-github",
        "colab_type": "text"
      },
      "source": [
        "<a href=\"https://colab.research.google.com/github/dalwindr/AV_ML_Notebooks/blob/master/Transfer_Learning.ipynb\" target=\"_parent\"><img src=\"https://colab.research.google.com/assets/colab-badge.svg\" alt=\"Open In Colab\"/></a>"
      ]
    },
    {
      "cell_type": "markdown",
      "metadata": {
        "id": "ptp7FGAWlrp9",
        "colab_type": "text"
      },
      "source": [
        "# Transfer Learning "
      ]
    },
    {
      "cell_type": "markdown",
      "metadata": {
        "id": "XHOltjt-lrqA",
        "colab_type": "text"
      },
      "source": [
        "<tr>\n",
        "    <td><img src=\"images/imagenet_challenge.png\" alt=\"drawing\" style=\"width:500px;\" align=\"left\"/></td>\n",
        "    <td><img src=\"images/screenshot.png\" alt=\"drawing\" style=\"width:500px;\" align=\"left\"/></td>\n",
        "</tr>"
      ]
    },
    {
      "cell_type": "markdown",
      "metadata": {
        "id": "ysQ1EYHjlrqC",
        "colab_type": "text"
      },
      "source": [
        "## Classification Problem - Emergency vs Non-emergency Vehicle Classification"
      ]
    },
    {
      "cell_type": "markdown",
      "metadata": {
        "id": "i70CRNy8lrqF",
        "colab_type": "text"
      },
      "source": [
        "<img src='images/emergency_vs_non.png'>"
      ]
    },
    {
      "cell_type": "markdown",
      "metadata": {
        "id": "aKEERr7qlrqI",
        "colab_type": "text"
      },
      "source": [
        "\n",
        "[Source](https://www.slideshare.net/xavigiro/image-classification-on-imagenet-d1l4-2017-upc-deep-learning-for-computer-vision/)"
      ]
    },
    {
      "cell_type": "markdown",
      "metadata": {
        "id": "zEk4ZIdmlrqJ",
        "colab_type": "text"
      },
      "source": [
        "Table of Contents\n",
        "1. <font color='blue'>Import neccessary libraries\n",
        "2. Load the data</font>\n",
        "3. <font color='#999900'>Preprocess the data</font>\n",
        "4. <font color='red'>Load weights of pre-trained model\n",
        "5. Fine tune the model for the current problem</font>\n",
        "6. <font color='blue'>Get predictions</font>"
      ]
    },
    {
      "cell_type": "markdown",
      "metadata": {
        "id": "TvERcG9VlrqK",
        "colab_type": "text"
      },
      "source": [
        "## 1. Import neccessary libraries"
      ]
    },
    {
      "cell_type": "markdown",
      "metadata": {
        "id": "vMFhpnlJlrqQ",
        "colab_type": "text"
      },
      "source": [
        "Here we will import the required libraries and functions."
      ]
    },
    {
      "cell_type": "code",
      "metadata": {
        "id": "IsiS1-BqlrqT",
        "colab_type": "code",
        "colab": {},
        "outputId": "e758d34c-07e7-4bbf-8f1c-d22b45f1ca63"
      },
      "source": [
        "# import necessary libraries for plotting images\n",
        "import numpy as np\n",
        "import matplotlib.pyplot as plt\n",
        "# plot in jupyter notebook itself\n",
        "%matplotlib inline\n",
        "from glob import glob\n",
        "import pandas as pd\n",
        "from sklearn.model_selection import train_test_split\n",
        "from skimage.transform import resize\n",
        "\n",
        "from keras.utils import to_categorical\n",
        "#used to preprocess data according to VGG16\n",
        "from keras.applications.vgg16 import preprocess_input\n",
        "#for instantiating the model and loading the weights and biases\n",
        "from keras.applications.vgg16 import VGG16\n",
        "from keras.models import Sequential\n",
        "from keras.layers import Dense, InputLayer"
      ],
      "execution_count": null,
      "outputs": [
        {
          "output_type": "stream",
          "text": [
            "Using TensorFlow backend.\n"
          ],
          "name": "stderr"
        }
      ]
    },
    {
      "cell_type": "markdown",
      "metadata": {
        "id": "vmnl8Ezslrqd",
        "colab_type": "text"
      },
      "source": [
        "## 2. Load the data"
      ]
    },
    {
      "cell_type": "code",
      "metadata": {
        "id": "aYQHgceIlrqf",
        "colab_type": "code",
        "colab": {}
      },
      "source": [
        "#reading the csv file containing data labels\n",
        "data = pd.read_csv('emergency/train_SOaYf6m/train.csv')"
      ],
      "execution_count": null,
      "outputs": []
    },
    {
      "cell_type": "code",
      "metadata": {
        "id": "c-D09gM_lrqn",
        "colab_type": "code",
        "colab": {},
        "outputId": "3cad0b64-558a-4bfc-bb72-eeabeab53e39"
      },
      "source": [
        "data.head()"
      ],
      "execution_count": null,
      "outputs": [
        {
          "output_type": "execute_result",
          "data": {
            "text/html": [
              "<div>\n",
              "<style scoped>\n",
              "    .dataframe tbody tr th:only-of-type {\n",
              "        vertical-align: middle;\n",
              "    }\n",
              "\n",
              "    .dataframe tbody tr th {\n",
              "        vertical-align: top;\n",
              "    }\n",
              "\n",
              "    .dataframe thead th {\n",
              "        text-align: right;\n",
              "    }\n",
              "</style>\n",
              "<table border=\"1\" class=\"dataframe\">\n",
              "  <thead>\n",
              "    <tr style=\"text-align: right;\">\n",
              "      <th></th>\n",
              "      <th>image_names</th>\n",
              "      <th>emergency_or_not</th>\n",
              "    </tr>\n",
              "  </thead>\n",
              "  <tbody>\n",
              "    <tr>\n",
              "      <th>0</th>\n",
              "      <td>1503.jpg</td>\n",
              "      <td>0</td>\n",
              "    </tr>\n",
              "    <tr>\n",
              "      <th>1</th>\n",
              "      <td>1420.jpg</td>\n",
              "      <td>0</td>\n",
              "    </tr>\n",
              "    <tr>\n",
              "      <th>2</th>\n",
              "      <td>1764.jpg</td>\n",
              "      <td>0</td>\n",
              "    </tr>\n",
              "    <tr>\n",
              "      <th>3</th>\n",
              "      <td>1356.jpg</td>\n",
              "      <td>0</td>\n",
              "    </tr>\n",
              "    <tr>\n",
              "      <th>4</th>\n",
              "      <td>1117.jpg</td>\n",
              "      <td>0</td>\n",
              "    </tr>\n",
              "  </tbody>\n",
              "</table>\n",
              "</div>"
            ],
            "text/plain": [
              "  image_names  emergency_or_not\n",
              "0    1503.jpg                 0\n",
              "1    1420.jpg                 0\n",
              "2    1764.jpg                 0\n",
              "3    1356.jpg                 0\n",
              "4    1117.jpg                 0"
            ]
          },
          "metadata": {
            "tags": []
          },
          "execution_count": 3
        }
      ]
    },
    {
      "cell_type": "code",
      "metadata": {
        "id": "irZc5Uhnlrqu",
        "colab_type": "code",
        "colab": {}
      },
      "source": [
        "# create an empty python list\n",
        "X = []\n",
        "\n",
        "# go through all the image locations one by one\n",
        "for img_name in data.image_names:\n",
        "    # read the image from location\n",
        "    img = plt.imread('emergency/train_SOaYf6m/images/' + img_name)\n",
        "    # pile it one over the other\n",
        "    X.append(img)\n",
        "    \n",
        "# convert this python list to a single numpy array\n",
        "X = np.array(X)"
      ],
      "execution_count": null,
      "outputs": []
    },
    {
      "cell_type": "code",
      "metadata": {
        "id": "eKuThONElrq2",
        "colab_type": "code",
        "colab": {}
      },
      "source": [
        "#getting the labels for images\n",
        "y = data.emergency_or_not.values"
      ],
      "execution_count": null,
      "outputs": []
    },
    {
      "cell_type": "code",
      "metadata": {
        "id": "soH_wuQilrq8",
        "colab_type": "code",
        "colab": {}
      },
      "source": [
        "#converting label to categorical i.e instead of 0/1 labels we have 2 columns emergency and non-emergency ,\n",
        "#with only one of them is true for every image\n",
        "y = to_categorical(y)"
      ],
      "execution_count": null,
      "outputs": []
    },
    {
      "cell_type": "code",
      "metadata": {
        "id": "ui-nM4StlrrC",
        "colab_type": "code",
        "colab": {}
      },
      "source": [
        ""
      ],
      "execution_count": null,
      "outputs": []
    },
    {
      "cell_type": "code",
      "metadata": {
        "id": "mgSe5VEUlrrJ",
        "colab_type": "code",
        "colab": {}
      },
      "source": [
        ""
      ],
      "execution_count": null,
      "outputs": []
    },
    {
      "cell_type": "markdown",
      "metadata": {
        "id": "guRKuMTelrrO",
        "colab_type": "text"
      },
      "source": [
        "## 3. Pre-Process Data"
      ]
    },
    {
      "cell_type": "markdown",
      "metadata": {
        "id": "fx3J83-9lrrP",
        "colab_type": "text"
      },
      "source": [
        "Steps : \n",
        "1. Pre-process the data as per model's requirement\n",
        "2. Prepare training and validation set"
      ]
    },
    {
      "cell_type": "code",
      "metadata": {
        "scrolled": true,
        "id": "jdzmfy4ZlrrR",
        "colab_type": "code",
        "colab": {},
        "outputId": "7a173da8-7139-44c9-832e-c7b6b6927257"
      },
      "source": [
        "#show maximum and minimum values for the image array\n",
        "X.min(), X.max()"
      ],
      "execution_count": null,
      "outputs": [
        {
          "output_type": "execute_result",
          "data": {
            "text/plain": [
              "(0, 255)"
            ]
          },
          "metadata": {
            "tags": []
          },
          "execution_count": 7
        }
      ]
    },
    {
      "cell_type": "code",
      "metadata": {
        "id": "fHbdGHTelrrX",
        "colab_type": "code",
        "colab": {}
      },
      "source": [
        "#preprocess input images accordiing to requirements of VGG16 model\n",
        "X = preprocess_input(X, mode='tf')"
      ],
      "execution_count": null,
      "outputs": []
    },
    {
      "cell_type": "code",
      "metadata": {
        "id": "UCBB5CFKlrrd",
        "colab_type": "code",
        "colab": {},
        "outputId": "7c2faaf4-ca30-4d79-ecf7-079e94b878de"
      },
      "source": [
        "#print minimum and maximum values present in the array\n",
        "X.min(), X.max()"
      ],
      "execution_count": null,
      "outputs": [
        {
          "output_type": "execute_result",
          "data": {
            "text/plain": [
              "(-1.0, 1.0)"
            ]
          },
          "metadata": {
            "tags": []
          },
          "execution_count": 9
        }
      ]
    },
    {
      "cell_type": "code",
      "metadata": {
        "id": "ZCSZe5pYlrrl",
        "colab_type": "code",
        "colab": {}
      },
      "source": [
        "# splitting the dataset into training and validation sets\n",
        "X_train, X_valid, y_train, y_valid = train_test_split(X, y, test_size=0.3, random_state=42)"
      ],
      "execution_count": null,
      "outputs": []
    },
    {
      "cell_type": "markdown",
      "metadata": {
        "id": "E_Y8th6blrrq",
        "colab_type": "text"
      },
      "source": [
        "## 4. Load weights of pretrained model"
      ]
    },
    {
      "cell_type": "code",
      "metadata": {
        "id": "XTokrmhRlrrs",
        "colab_type": "code",
        "colab": {}
      },
      "source": [
        "# creating model with pre trained imagenet weights\n",
        "base_model = VGG16(weights='imagenet')"
      ],
      "execution_count": null,
      "outputs": []
    },
    {
      "cell_type": "code",
      "metadata": {
        "id": "aBJkY7-Dlrr9",
        "colab_type": "code",
        "colab": {},
        "outputId": "278cb09a-32be-43bc-847a-9dcafb6ffe0e"
      },
      "source": [
        "#shows model summary\n",
        "base_model.summary()"
      ],
      "execution_count": null,
      "outputs": [
        {
          "output_type": "stream",
          "text": [
            "_________________________________________________________________\n",
            "Layer (type)                 Output Shape              Param #   \n",
            "=================================================================\n",
            "input_1 (InputLayer)         (None, 224, 224, 3)       0         \n",
            "_________________________________________________________________\n",
            "block1_conv1 (Conv2D)        (None, 224, 224, 64)      1792      \n",
            "_________________________________________________________________\n",
            "block1_conv2 (Conv2D)        (None, 224, 224, 64)      36928     \n",
            "_________________________________________________________________\n",
            "block1_pool (MaxPooling2D)   (None, 112, 112, 64)      0         \n",
            "_________________________________________________________________\n",
            "block2_conv1 (Conv2D)        (None, 112, 112, 128)     73856     \n",
            "_________________________________________________________________\n",
            "block2_conv2 (Conv2D)        (None, 112, 112, 128)     147584    \n",
            "_________________________________________________________________\n",
            "block2_pool (MaxPooling2D)   (None, 56, 56, 128)       0         \n",
            "_________________________________________________________________\n",
            "block3_conv1 (Conv2D)        (None, 56, 56, 256)       295168    \n",
            "_________________________________________________________________\n",
            "block3_conv2 (Conv2D)        (None, 56, 56, 256)       590080    \n",
            "_________________________________________________________________\n",
            "block3_conv3 (Conv2D)        (None, 56, 56, 256)       590080    \n",
            "_________________________________________________________________\n",
            "block3_pool (MaxPooling2D)   (None, 28, 28, 256)       0         \n",
            "_________________________________________________________________\n",
            "block4_conv1 (Conv2D)        (None, 28, 28, 512)       1180160   \n",
            "_________________________________________________________________\n",
            "block4_conv2 (Conv2D)        (None, 28, 28, 512)       2359808   \n",
            "_________________________________________________________________\n",
            "block4_conv3 (Conv2D)        (None, 28, 28, 512)       2359808   \n",
            "_________________________________________________________________\n",
            "block4_pool (MaxPooling2D)   (None, 14, 14, 512)       0         \n",
            "_________________________________________________________________\n",
            "block5_conv1 (Conv2D)        (None, 14, 14, 512)       2359808   \n",
            "_________________________________________________________________\n",
            "block5_conv2 (Conv2D)        (None, 14, 14, 512)       2359808   \n",
            "_________________________________________________________________\n",
            "block5_conv3 (Conv2D)        (None, 14, 14, 512)       2359808   \n",
            "_________________________________________________________________\n",
            "block5_pool (MaxPooling2D)   (None, 7, 7, 512)         0         \n",
            "_________________________________________________________________\n",
            "flatten (Flatten)            (None, 25088)             0         \n",
            "_________________________________________________________________\n",
            "fc1 (Dense)                  (None, 4096)              102764544 \n",
            "_________________________________________________________________\n",
            "fc2 (Dense)                  (None, 4096)              16781312  \n",
            "_________________________________________________________________\n",
            "predictions (Dense)          (None, 1000)              4097000   \n",
            "=================================================================\n",
            "Total params: 138,357,544\n",
            "Trainable params: 138,357,544\n",
            "Non-trainable params: 0\n",
            "_________________________________________________________________\n"
          ],
          "name": "stdout"
        }
      ]
    },
    {
      "cell_type": "markdown",
      "metadata": {
        "id": "ayq6rleblrsC",
        "colab_type": "text"
      },
      "source": [
        "<img src=\"images/original_vgg_model_input.png\" alt=\"drawing\" style=\"width:500px;\"/>"
      ]
    },
    {
      "cell_type": "markdown",
      "metadata": {
        "id": "2rmLuaPklrsD",
        "colab_type": "text"
      },
      "source": [
        "<img src=\"images/original_vgg_model_knowledge_layer.png\" alt=\"drawing\" style=\"width:500px;\"/>"
      ]
    },
    {
      "cell_type": "markdown",
      "metadata": {
        "id": "rGOKxCHelrsF",
        "colab_type": "text"
      },
      "source": [
        "<img src=\"images/original_vgg_model_top_layer.png\" alt=\"drawing\" style=\"width:500px;\"/>"
      ]
    },
    {
      "cell_type": "code",
      "metadata": {
        "id": "gAYaxYJvlrsG",
        "colab_type": "code",
        "colab": {}
      },
      "source": [
        "# creating a VGG16 model with imagenet pretrained weights , accepting input of shape (224,224,3)\n",
        "# also remove the final layers from model(include_top= False)\n",
        "base_model = VGG16(weights='imagenet', input_shape=(224, 224, 3), include_top=False)"
      ],
      "execution_count": null,
      "outputs": []
    },
    {
      "cell_type": "code",
      "metadata": {
        "id": "_IvLqsVdlrsK",
        "colab_type": "code",
        "colab": {},
        "outputId": "4eed6c28-fc63-4813-f11c-2d87a642efc3"
      },
      "source": [
        "# show model summary\n",
        "base_model.summary()"
      ],
      "execution_count": null,
      "outputs": [
        {
          "output_type": "stream",
          "text": [
            "_________________________________________________________________\n",
            "Layer (type)                 Output Shape              Param #   \n",
            "=================================================================\n",
            "input_2 (InputLayer)         (None, 224, 224, 3)       0         \n",
            "_________________________________________________________________\n",
            "block1_conv1 (Conv2D)        (None, 224, 224, 64)      1792      \n",
            "_________________________________________________________________\n",
            "block1_conv2 (Conv2D)        (None, 224, 224, 64)      36928     \n",
            "_________________________________________________________________\n",
            "block1_pool (MaxPooling2D)   (None, 112, 112, 64)      0         \n",
            "_________________________________________________________________\n",
            "block2_conv1 (Conv2D)        (None, 112, 112, 128)     73856     \n",
            "_________________________________________________________________\n",
            "block2_conv2 (Conv2D)        (None, 112, 112, 128)     147584    \n",
            "_________________________________________________________________\n",
            "block2_pool (MaxPooling2D)   (None, 56, 56, 128)       0         \n",
            "_________________________________________________________________\n",
            "block3_conv1 (Conv2D)        (None, 56, 56, 256)       295168    \n",
            "_________________________________________________________________\n",
            "block3_conv2 (Conv2D)        (None, 56, 56, 256)       590080    \n",
            "_________________________________________________________________\n",
            "block3_conv3 (Conv2D)        (None, 56, 56, 256)       590080    \n",
            "_________________________________________________________________\n",
            "block3_pool (MaxPooling2D)   (None, 28, 28, 256)       0         \n",
            "_________________________________________________________________\n",
            "block4_conv1 (Conv2D)        (None, 28, 28, 512)       1180160   \n",
            "_________________________________________________________________\n",
            "block4_conv2 (Conv2D)        (None, 28, 28, 512)       2359808   \n",
            "_________________________________________________________________\n",
            "block4_conv3 (Conv2D)        (None, 28, 28, 512)       2359808   \n",
            "_________________________________________________________________\n",
            "block4_pool (MaxPooling2D)   (None, 14, 14, 512)       0         \n",
            "_________________________________________________________________\n",
            "block5_conv1 (Conv2D)        (None, 14, 14, 512)       2359808   \n",
            "_________________________________________________________________\n",
            "block5_conv2 (Conv2D)        (None, 14, 14, 512)       2359808   \n",
            "_________________________________________________________________\n",
            "block5_conv3 (Conv2D)        (None, 14, 14, 512)       2359808   \n",
            "_________________________________________________________________\n",
            "block5_pool (MaxPooling2D)   (None, 7, 7, 512)         0         \n",
            "=================================================================\n",
            "Total params: 14,714,688\n",
            "Trainable params: 14,714,688\n",
            "Non-trainable params: 0\n",
            "_________________________________________________________________\n"
          ],
          "name": "stdout"
        }
      ]
    },
    {
      "cell_type": "markdown",
      "metadata": {
        "id": "SvHZ13yjlrsQ",
        "colab_type": "text"
      },
      "source": [
        "## 5. Fine tune the model for the current problem\n",
        "Steps:-\n",
        "1. Extract features\n",
        "2. Flatten the data\n",
        "3. Rescale features\n",
        "4. Create a Neural Network Model\n",
        "5. Compile the model\n",
        "6. Train and Validate the model"
      ]
    },
    {
      "cell_type": "code",
      "metadata": {
        "id": "GurOAG72lrsQ",
        "colab_type": "code",
        "colab": {}
      },
      "source": [
        "# extract features using the pretrained VGG16 model\n",
        "# for training set\n",
        "base_model_pred = base_model.predict(X_train)\n",
        "#for validation set\n",
        "base_model_pred_valid = base_model.predict(X_valid)"
      ],
      "execution_count": null,
      "outputs": []
    },
    {
      "cell_type": "code",
      "metadata": {
        "id": "WrXzGgVmlrsU",
        "colab_type": "code",
        "colab": {},
        "outputId": "4197f6aa-3b0e-47b9-f0e0-3b9925140d82"
      },
      "source": [
        "#show shape of predictions\n",
        "base_model_pred.shape"
      ],
      "execution_count": null,
      "outputs": [
        {
          "output_type": "execute_result",
          "data": {
            "text/plain": [
              "(1152, 7, 7, 512)"
            ]
          },
          "metadata": {
            "tags": []
          },
          "execution_count": 16
        }
      ]
    },
    {
      "cell_type": "code",
      "metadata": {
        "id": "N0_2meWslrsa",
        "colab_type": "code",
        "colab": {}
      },
      "source": [
        "# flattening the model output to one dimension for every sample of training set\n",
        "base_model_pred = base_model_pred.reshape(1152, 7*7*512)"
      ],
      "execution_count": null,
      "outputs": []
    },
    {
      "cell_type": "code",
      "metadata": {
        "id": "Sln6l-d0lrse",
        "colab_type": "code",
        "colab": {},
        "outputId": "d05f5710-62f5-40dc-be62-b0a472a2b21d"
      },
      "source": [
        "base_model_pred.shape"
      ],
      "execution_count": null,
      "outputs": [
        {
          "output_type": "execute_result",
          "data": {
            "text/plain": [
              "(1152, 25088)"
            ]
          },
          "metadata": {
            "tags": []
          },
          "execution_count": 18
        }
      ]
    },
    {
      "cell_type": "code",
      "metadata": {
        "id": "Dq-GkBxclrsj",
        "colab_type": "code",
        "colab": {},
        "outputId": "224511ad-de1f-41e6-d212-7c0c6d721229"
      },
      "source": [
        "base_model_pred_valid.shape"
      ],
      "execution_count": null,
      "outputs": [
        {
          "output_type": "execute_result",
          "data": {
            "text/plain": [
              "(494, 7, 7, 512)"
            ]
          },
          "metadata": {
            "tags": []
          },
          "execution_count": 19
        }
      ]
    },
    {
      "cell_type": "code",
      "metadata": {
        "id": "LNYjAfSHlrsq",
        "colab_type": "code",
        "colab": {}
      },
      "source": [
        "# flattening the model output to one dimension for every sample of validation set\n",
        "base_model_pred_valid = base_model_pred_valid.reshape(494, 7*7*512)"
      ],
      "execution_count": null,
      "outputs": []
    },
    {
      "cell_type": "code",
      "metadata": {
        "id": "GyR-CDHwlrst",
        "colab_type": "code",
        "colab": {},
        "outputId": "ab66d5ac-f122-4f0d-ca9a-ea8ac7f690b6"
      },
      "source": [
        "base_model_pred_valid.shape"
      ],
      "execution_count": null,
      "outputs": [
        {
          "output_type": "execute_result",
          "data": {
            "text/plain": [
              "(494, 25088)"
            ]
          },
          "metadata": {
            "tags": []
          },
          "execution_count": 21
        }
      ]
    },
    {
      "cell_type": "code",
      "metadata": {
        "id": "TWoIUd8Plrsz",
        "colab_type": "code",
        "colab": {},
        "outputId": "d78c2d1c-7f5f-4816-8b71-2aaa719a325e"
      },
      "source": [
        "# checking the min and max of the extracted features\n",
        "base_model_pred.min(), base_model_pred.max()"
      ],
      "execution_count": null,
      "outputs": [
        {
          "output_type": "execute_result",
          "data": {
            "text/plain": [
              "(0.0, 11.164914)"
            ]
          },
          "metadata": {
            "tags": []
          },
          "execution_count": 22
        }
      ]
    },
    {
      "cell_type": "code",
      "metadata": {
        "id": "brDx1EoIlrs4",
        "colab_type": "code",
        "colab": {}
      },
      "source": [
        "#get maximum value from generated features\n",
        "max_val = base_model_pred.max()"
      ],
      "execution_count": null,
      "outputs": []
    },
    {
      "cell_type": "code",
      "metadata": {
        "id": "WaFxDnlnlrs7",
        "colab_type": "code",
        "colab": {},
        "outputId": "8aa0f018-0d5e-48f1-cd68-68e3f4c4209e"
      },
      "source": [
        "#normalizing features generated from the VGG16 model to [0,1]\n",
        "base_model_pred = base_model_pred / max_val\n",
        "base_model_pred_valid = base_model_pred_valid / max_val\n",
        "base_model_pred.min(), base_model_pred.max()"
      ],
      "execution_count": null,
      "outputs": [
        {
          "output_type": "execute_result",
          "data": {
            "text/plain": [
              "(0.0, 1.0)"
            ]
          },
          "metadata": {
            "tags": []
          },
          "execution_count": 24
        }
      ]
    },
    {
      "cell_type": "code",
      "metadata": {
        "id": "6k55Jg4Glrs_",
        "colab_type": "code",
        "colab": {}
      },
      "source": [
        "#create a sequential model \n",
        "model = Sequential()\n",
        "# add input layer to the model that accepts input of shape 7*7*512\n",
        "model.add(InputLayer((7*7*512, )))\n",
        "# add fully connected layer with 1024 neurons and relu activation\n",
        "model.add(Dense(units=1024, activation='relu'))\n",
        "# add fully connected layer with 2 neurons and relu activation\n",
        "model.add(Dense(units=2, activation='softmax'))"
      ],
      "execution_count": null,
      "outputs": []
    },
    {
      "cell_type": "code",
      "metadata": {
        "id": "3bhwTJLtlrtC",
        "colab_type": "code",
        "colab": {}
      },
      "source": [
        "# compile the model\n",
        "model.compile(optimizer='sgd', metrics=['accuracy'], loss='categorical_crossentropy')"
      ],
      "execution_count": null,
      "outputs": []
    },
    {
      "cell_type": "code",
      "metadata": {
        "id": "uTDqD5ZclrtH",
        "colab_type": "code",
        "colab": {},
        "outputId": "1aa79c9e-db91-4232-adaf-2f955a539fa5"
      },
      "source": [
        "model.summary()"
      ],
      "execution_count": null,
      "outputs": [
        {
          "output_type": "stream",
          "text": [
            "_________________________________________________________________\n",
            "Layer (type)                 Output Shape              Param #   \n",
            "=================================================================\n",
            "dense_1 (Dense)              (None, 1024)              25691136  \n",
            "_________________________________________________________________\n",
            "dense_2 (Dense)              (None, 2)                 2050      \n",
            "=================================================================\n",
            "Total params: 25,693,186\n",
            "Trainable params: 25,693,186\n",
            "Non-trainable params: 0\n",
            "_________________________________________________________________\n"
          ],
          "name": "stdout"
        }
      ]
    },
    {
      "cell_type": "code",
      "metadata": {
        "scrolled": true,
        "id": "r2F82qfxlrtL",
        "colab_type": "code",
        "colab": {},
        "outputId": "3cdb1bac-29c2-415f-9e1b-3bf519136aa3"
      },
      "source": [
        "# train model using features generated from VGG16 model\n",
        "model.fit(base_model_pred, y_train, epochs=100, validation_data=(base_model_pred_valid, y_valid))"
      ],
      "execution_count": null,
      "outputs": [
        {
          "output_type": "stream",
          "text": [
            "Train on 1152 samples, validate on 494 samples\n",
            "Epoch 1/100\n",
            "1152/1152 [==============================] - 1s 683us/step - loss: 0.6501 - acc: 0.6050 - val_loss: 0.6275 - val_acc: 0.6255\n",
            "Epoch 2/100\n",
            "1152/1152 [==============================] - 0s 291us/step - loss: 0.5928 - acc: 0.6875 - val_loss: 0.5787 - val_acc: 0.7551\n",
            "Epoch 3/100\n",
            "1152/1152 [==============================] - 0s 286us/step - loss: 0.5466 - acc: 0.7865 - val_loss: 0.5482 - val_acc: 0.7287\n",
            "Epoch 4/100\n",
            "1152/1152 [==============================] - 0s 293us/step - loss: 0.5055 - acc: 0.8030 - val_loss: 0.5030 - val_acc: 0.8097\n",
            "Epoch 5/100\n",
            "1152/1152 [==============================] - 0s 300us/step - loss: 0.4685 - acc: 0.8438 - val_loss: 0.4866 - val_acc: 0.7814\n",
            "Epoch 6/100\n",
            "1152/1152 [==============================] - 0s 296us/step - loss: 0.4419 - acc: 0.8368 - val_loss: 0.4459 - val_acc: 0.8097\n",
            "Epoch 7/100\n",
            "1152/1152 [==============================] - 0s 288us/step - loss: 0.4138 - acc: 0.8568 - val_loss: 0.4420 - val_acc: 0.7996\n",
            "Epoch 8/100\n",
            "1152/1152 [==============================] - 0s 283us/step - loss: 0.3912 - acc: 0.8620 - val_loss: 0.4088 - val_acc: 0.8219\n",
            "Epoch 9/100\n",
            "1152/1152 [==============================] - 0s 294us/step - loss: 0.3720 - acc: 0.8707 - val_loss: 0.3852 - val_acc: 0.8381\n",
            "Epoch 10/100\n",
            "1152/1152 [==============================] - 0s 287us/step - loss: 0.3506 - acc: 0.8776 - val_loss: 0.3700 - val_acc: 0.8401\n",
            "Epoch 11/100\n",
            "1152/1152 [==============================] - 0s 290us/step - loss: 0.3347 - acc: 0.8932 - val_loss: 0.3589 - val_acc: 0.8522\n",
            "Epoch 12/100\n",
            "1152/1152 [==============================] - 0s 292us/step - loss: 0.3189 - acc: 0.8950 - val_loss: 0.3461 - val_acc: 0.8563\n",
            "Epoch 13/100\n",
            "1152/1152 [==============================] - 0s 297us/step - loss: 0.3074 - acc: 0.9036 - val_loss: 0.3326 - val_acc: 0.8664\n",
            "Epoch 14/100\n",
            "1152/1152 [==============================] - 0s 295us/step - loss: 0.2935 - acc: 0.9123 - val_loss: 0.3234 - val_acc: 0.8623\n",
            "Epoch 15/100\n",
            "1152/1152 [==============================] - 0s 291us/step - loss: 0.2810 - acc: 0.9175 - val_loss: 0.3128 - val_acc: 0.8725\n",
            "Epoch 16/100\n",
            "1152/1152 [==============================] - 0s 286us/step - loss: 0.2714 - acc: 0.9193 - val_loss: 0.3041 - val_acc: 0.8765\n",
            "Epoch 17/100\n",
            "1152/1152 [==============================] - 0s 293us/step - loss: 0.2623 - acc: 0.9219 - val_loss: 0.2989 - val_acc: 0.8806\n",
            "Epoch 18/100\n",
            "1152/1152 [==============================] - 0s 302us/step - loss: 0.2527 - acc: 0.9201 - val_loss: 0.2887 - val_acc: 0.8866\n",
            "Epoch 19/100\n",
            "1152/1152 [==============================] - 0s 300us/step - loss: 0.2425 - acc: 0.9297 - val_loss: 0.2817 - val_acc: 0.8907\n",
            "Epoch 20/100\n",
            "1152/1152 [==============================] - 0s 301us/step - loss: 0.2351 - acc: 0.9332 - val_loss: 0.2909 - val_acc: 0.8765\n",
            "Epoch 21/100\n",
            "1152/1152 [==============================] - 0s 289us/step - loss: 0.2273 - acc: 0.9306 - val_loss: 0.2703 - val_acc: 0.8907\n",
            "Epoch 22/100\n",
            "1152/1152 [==============================] - 0s 293us/step - loss: 0.2200 - acc: 0.9384 - val_loss: 0.2640 - val_acc: 0.8947\n",
            "Epoch 23/100\n",
            "1152/1152 [==============================] - 0s 298us/step - loss: 0.2137 - acc: 0.9366 - val_loss: 0.2699 - val_acc: 0.8907\n",
            "Epoch 24/100\n",
            "1152/1152 [==============================] - 0s 297us/step - loss: 0.2049 - acc: 0.9384 - val_loss: 0.2543 - val_acc: 0.8988\n",
            "Epoch 25/100\n",
            "1152/1152 [==============================] - 0s 293us/step - loss: 0.2013 - acc: 0.9401 - val_loss: 0.2503 - val_acc: 0.8947\n",
            "Epoch 26/100\n",
            "1152/1152 [==============================] - 0s 294us/step - loss: 0.1952 - acc: 0.9410 - val_loss: 0.2516 - val_acc: 0.8947\n",
            "Epoch 27/100\n",
            "1152/1152 [==============================] - 0s 296us/step - loss: 0.1904 - acc: 0.9497 - val_loss: 0.2495 - val_acc: 0.8988\n",
            "Epoch 28/100\n",
            "1152/1152 [==============================] - 0s 305us/step - loss: 0.1846 - acc: 0.9436 - val_loss: 0.2392 - val_acc: 0.8968\n",
            "Epoch 29/100\n",
            "1152/1152 [==============================] - 0s 299us/step - loss: 0.1795 - acc: 0.9470 - val_loss: 0.2438 - val_acc: 0.8988\n",
            "Epoch 30/100\n",
            "1152/1152 [==============================] - 0s 289us/step - loss: 0.1753 - acc: 0.9488 - val_loss: 0.2488 - val_acc: 0.9008\n",
            "Epoch 31/100\n",
            "1152/1152 [==============================] - 0s 294us/step - loss: 0.1702 - acc: 0.9549 - val_loss: 0.2342 - val_acc: 0.8988\n",
            "Epoch 32/100\n",
            "1152/1152 [==============================] - 0s 305us/step - loss: 0.1663 - acc: 0.9462 - val_loss: 0.2452 - val_acc: 0.9008\n",
            "Epoch 33/100\n",
            "1152/1152 [==============================] - 0s 302us/step - loss: 0.1632 - acc: 0.9540 - val_loss: 0.2229 - val_acc: 0.8988\n",
            "Epoch 34/100\n",
            "1152/1152 [==============================] - 0s 297us/step - loss: 0.1574 - acc: 0.9557 - val_loss: 0.2204 - val_acc: 0.9109\n",
            "Epoch 35/100\n",
            "1152/1152 [==============================] - 0s 292us/step - loss: 0.1535 - acc: 0.9575 - val_loss: 0.2181 - val_acc: 0.9130\n",
            "Epoch 36/100\n",
            "1152/1152 [==============================] - 0s 297us/step - loss: 0.1499 - acc: 0.9592 - val_loss: 0.2172 - val_acc: 0.9008\n",
            "Epoch 37/100\n",
            "1152/1152 [==============================] - 0s 301us/step - loss: 0.1471 - acc: 0.9653 - val_loss: 0.2174 - val_acc: 0.9028\n",
            "Epoch 38/100\n",
            "1152/1152 [==============================] - 0s 295us/step - loss: 0.1435 - acc: 0.9653 - val_loss: 0.2120 - val_acc: 0.9190\n",
            "Epoch 39/100\n",
            "1152/1152 [==============================] - 0s 302us/step - loss: 0.1386 - acc: 0.9618 - val_loss: 0.2163 - val_acc: 0.9028\n",
            "Epoch 40/100\n",
            "1152/1152 [==============================] - 0s 297us/step - loss: 0.1368 - acc: 0.9670 - val_loss: 0.2081 - val_acc: 0.9109\n",
            "Epoch 41/100\n",
            "1152/1152 [==============================] - 0s 303us/step - loss: 0.1324 - acc: 0.9670 - val_loss: 0.2071 - val_acc: 0.9089\n",
            "Epoch 42/100\n",
            "1152/1152 [==============================] - 0s 286us/step - loss: 0.1305 - acc: 0.9661 - val_loss: 0.2063 - val_acc: 0.9089\n",
            "Epoch 43/100\n",
            "1152/1152 [==============================] - 0s 293us/step - loss: 0.1271 - acc: 0.9688 - val_loss: 0.2028 - val_acc: 0.9150\n",
            "Epoch 44/100\n",
            "1152/1152 [==============================] - 0s 294us/step - loss: 0.1264 - acc: 0.9679 - val_loss: 0.2137 - val_acc: 0.9109\n",
            "Epoch 45/100\n",
            "1152/1152 [==============================] - 0s 301us/step - loss: 0.1235 - acc: 0.9670 - val_loss: 0.2014 - val_acc: 0.9170\n",
            "Epoch 46/100\n",
            "1152/1152 [==============================] - 0s 292us/step - loss: 0.1215 - acc: 0.9705 - val_loss: 0.1984 - val_acc: 0.9150\n",
            "Epoch 47/100\n",
            "1152/1152 [==============================] - 0s 299us/step - loss: 0.1162 - acc: 0.9748 - val_loss: 0.2045 - val_acc: 0.9150\n",
            "Epoch 48/100\n",
            "1152/1152 [==============================] - 0s 292us/step - loss: 0.1144 - acc: 0.9740 - val_loss: 0.1961 - val_acc: 0.9130\n",
            "Epoch 49/100\n",
            "1152/1152 [==============================] - 0s 289us/step - loss: 0.1118 - acc: 0.9740 - val_loss: 0.1991 - val_acc: 0.9150\n",
            "Epoch 50/100\n",
            "1152/1152 [==============================] - 0s 300us/step - loss: 0.1091 - acc: 0.9757 - val_loss: 0.1994 - val_acc: 0.9150\n",
            "Epoch 51/100\n",
            "1152/1152 [==============================] - 0s 303us/step - loss: 0.1076 - acc: 0.9757 - val_loss: 0.1927 - val_acc: 0.9150\n",
            "Epoch 52/100\n",
            "1152/1152 [==============================] - 0s 301us/step - loss: 0.1048 - acc: 0.9766 - val_loss: 0.1917 - val_acc: 0.9150\n",
            "Epoch 53/100\n",
            "1152/1152 [==============================] - 0s 295us/step - loss: 0.1031 - acc: 0.9748 - val_loss: 0.1936 - val_acc: 0.9190\n",
            "Epoch 54/100\n",
            "1152/1152 [==============================] - 0s 295us/step - loss: 0.0999 - acc: 0.9783 - val_loss: 0.1921 - val_acc: 0.9190\n",
            "Epoch 55/100\n",
            "1152/1152 [==============================] - 0s 297us/step - loss: 0.0987 - acc: 0.9757 - val_loss: 0.1890 - val_acc: 0.9150\n",
            "Epoch 56/100\n",
            "1152/1152 [==============================] - 0s 298us/step - loss: 0.0959 - acc: 0.9792 - val_loss: 0.1986 - val_acc: 0.9150\n",
            "Epoch 57/100\n",
            "1152/1152 [==============================] - 0s 297us/step - loss: 0.0940 - acc: 0.9792 - val_loss: 0.1872 - val_acc: 0.9170\n",
            "Epoch 58/100\n",
            "1152/1152 [==============================] - 0s 304us/step - loss: 0.0932 - acc: 0.9783 - val_loss: 0.1888 - val_acc: 0.9211\n",
            "Epoch 59/100\n",
            "1152/1152 [==============================] - 0s 303us/step - loss: 0.0913 - acc: 0.9809 - val_loss: 0.1861 - val_acc: 0.9170\n",
            "Epoch 60/100\n"
          ],
          "name": "stdout"
        },
        {
          "output_type": "stream",
          "text": [
            "1152/1152 [==============================] - 0s 302us/step - loss: 0.0909 - acc: 0.9818 - val_loss: 0.1869 - val_acc: 0.9190\n",
            "Epoch 61/100\n",
            "1152/1152 [==============================] - 0s 299us/step - loss: 0.0878 - acc: 0.9809 - val_loss: 0.1863 - val_acc: 0.9190\n",
            "Epoch 62/100\n",
            "1152/1152 [==============================] - 0s 286us/step - loss: 0.0855 - acc: 0.9826 - val_loss: 0.1951 - val_acc: 0.9190\n",
            "Epoch 63/100\n",
            "1152/1152 [==============================] - 0s 288us/step - loss: 0.0847 - acc: 0.9826 - val_loss: 0.1856 - val_acc: 0.9170\n",
            "Epoch 64/100\n",
            "1152/1152 [==============================] - 0s 299us/step - loss: 0.0816 - acc: 0.9835 - val_loss: 0.1828 - val_acc: 0.9170\n",
            "Epoch 65/100\n",
            "1152/1152 [==============================] - 0s 301us/step - loss: 0.0798 - acc: 0.9844 - val_loss: 0.1823 - val_acc: 0.9170\n",
            "Epoch 66/100\n",
            "1152/1152 [==============================] - 0s 295us/step - loss: 0.0792 - acc: 0.9870 - val_loss: 0.1843 - val_acc: 0.9190\n",
            "Epoch 67/100\n",
            "1152/1152 [==============================] - 0s 303us/step - loss: 0.0770 - acc: 0.9870 - val_loss: 0.1883 - val_acc: 0.9190\n",
            "Epoch 68/100\n",
            "1152/1152 [==============================] - 0s 295us/step - loss: 0.0760 - acc: 0.9852 - val_loss: 0.1826 - val_acc: 0.9190\n",
            "Epoch 69/100\n",
            "1152/1152 [==============================] - 0s 292us/step - loss: 0.0743 - acc: 0.9887 - val_loss: 0.1809 - val_acc: 0.9190\n",
            "Epoch 70/100\n",
            "1152/1152 [==============================] - 0s 299us/step - loss: 0.0737 - acc: 0.9870 - val_loss: 0.1820 - val_acc: 0.9211\n",
            "Epoch 71/100\n",
            "1152/1152 [==============================] - 0s 298us/step - loss: 0.0711 - acc: 0.9905 - val_loss: 0.1794 - val_acc: 0.9170\n",
            "Epoch 72/100\n",
            "1152/1152 [==============================] - 0s 287us/step - loss: 0.0703 - acc: 0.9861 - val_loss: 0.1789 - val_acc: 0.9190\n",
            "Epoch 73/100\n",
            "1152/1152 [==============================] - 0s 288us/step - loss: 0.0693 - acc: 0.9896 - val_loss: 0.1789 - val_acc: 0.9211\n",
            "Epoch 74/100\n",
            "1152/1152 [==============================] - 0s 293us/step - loss: 0.0675 - acc: 0.9905 - val_loss: 0.1819 - val_acc: 0.9190\n",
            "Epoch 75/100\n",
            "1152/1152 [==============================] - 0s 297us/step - loss: 0.0664 - acc: 0.9913 - val_loss: 0.1800 - val_acc: 0.9211\n",
            "Epoch 76/100\n",
            "1152/1152 [==============================] - 0s 295us/step - loss: 0.0644 - acc: 0.9913 - val_loss: 0.1775 - val_acc: 0.9170\n",
            "Epoch 77/100\n",
            "1152/1152 [==============================] - 0s 303us/step - loss: 0.0644 - acc: 0.9922 - val_loss: 0.1780 - val_acc: 0.9190\n",
            "Epoch 78/100\n",
            "1152/1152 [==============================] - 0s 299us/step - loss: 0.0625 - acc: 0.9913 - val_loss: 0.1804 - val_acc: 0.9190\n",
            "Epoch 79/100\n",
            "1152/1152 [==============================] - 0s 296us/step - loss: 0.0613 - acc: 0.9939 - val_loss: 0.1830 - val_acc: 0.9170\n",
            "Epoch 80/100\n",
            "1152/1152 [==============================] - 0s 285us/step - loss: 0.0600 - acc: 0.9922 - val_loss: 0.1769 - val_acc: 0.9170\n",
            "Epoch 81/100\n",
            "1152/1152 [==============================] - 0s 285us/step - loss: 0.0591 - acc: 0.9957 - val_loss: 0.1765 - val_acc: 0.9190\n",
            "Epoch 82/100\n",
            "1152/1152 [==============================] - 0s 285us/step - loss: 0.0578 - acc: 0.9939 - val_loss: 0.1782 - val_acc: 0.9211\n",
            "Epoch 83/100\n",
            "1152/1152 [==============================] - 0s 297us/step - loss: 0.0573 - acc: 0.9939 - val_loss: 0.1811 - val_acc: 0.9190\n",
            "Epoch 84/100\n",
            "1152/1152 [==============================] - 0s 297us/step - loss: 0.0558 - acc: 0.9939 - val_loss: 0.1856 - val_acc: 0.9211\n",
            "Epoch 85/100\n",
            "1152/1152 [==============================] - 0s 305us/step - loss: 0.0557 - acc: 0.9948 - val_loss: 0.1813 - val_acc: 0.9190\n",
            "Epoch 86/100\n",
            "1152/1152 [==============================] - 0s 300us/step - loss: 0.0538 - acc: 0.9957 - val_loss: 0.1778 - val_acc: 0.9170\n",
            "Epoch 87/100\n",
            "1152/1152 [==============================] - 0s 300us/step - loss: 0.0540 - acc: 0.9939 - val_loss: 0.1761 - val_acc: 0.9150\n",
            "Epoch 88/100\n",
            "1152/1152 [==============================] - 0s 296us/step - loss: 0.0524 - acc: 0.9965 - val_loss: 0.1749 - val_acc: 0.9190\n",
            "Epoch 89/100\n",
            "1152/1152 [==============================] - 0s 301us/step - loss: 0.0506 - acc: 0.9974 - val_loss: 0.1882 - val_acc: 0.9231\n",
            "Epoch 90/100\n",
            "1152/1152 [==============================] - 0s 295us/step - loss: 0.0500 - acc: 0.9965 - val_loss: 0.1750 - val_acc: 0.9130\n",
            "Epoch 91/100\n",
            "1152/1152 [==============================] - 0s 281us/step - loss: 0.0499 - acc: 0.9965 - val_loss: 0.1750 - val_acc: 0.9150\n",
            "Epoch 92/100\n",
            "1152/1152 [==============================] - 0s 296us/step - loss: 0.0487 - acc: 0.9974 - val_loss: 0.1742 - val_acc: 0.9170\n",
            "Epoch 93/100\n",
            "1152/1152 [==============================] - 0s 303us/step - loss: 0.0488 - acc: 0.9965 - val_loss: 0.1788 - val_acc: 0.9211\n",
            "Epoch 94/100\n",
            "1152/1152 [==============================] - 0s 303us/step - loss: 0.0472 - acc: 0.9957 - val_loss: 0.1780 - val_acc: 0.9190\n",
            "Epoch 95/100\n",
            "1152/1152 [==============================] - 0s 300us/step - loss: 0.0461 - acc: 0.9974 - val_loss: 0.1750 - val_acc: 0.9211\n",
            "Epoch 96/100\n",
            "1152/1152 [==============================] - 0s 300us/step - loss: 0.0459 - acc: 0.9965 - val_loss: 0.1749 - val_acc: 0.9130\n",
            "Epoch 97/100\n",
            "1152/1152 [==============================] - 0s 303us/step - loss: 0.0449 - acc: 0.9974 - val_loss: 0.1750 - val_acc: 0.9170\n",
            "Epoch 98/100\n",
            "1152/1152 [==============================] - 0s 304us/step - loss: 0.0436 - acc: 0.9983 - val_loss: 0.1931 - val_acc: 0.9150\n",
            "Epoch 99/100\n",
            "1152/1152 [==============================] - 0s 300us/step - loss: 0.0438 - acc: 0.9974 - val_loss: 0.1760 - val_acc: 0.9211\n",
            "Epoch 100/100\n",
            "1152/1152 [==============================] - 0s 282us/step - loss: 0.0430 - acc: 0.9974 - val_loss: 0.1739 - val_acc: 0.9170\n"
          ],
          "name": "stdout"
        },
        {
          "output_type": "execute_result",
          "data": {
            "text/plain": [
              "<keras.callbacks.History at 0x7f2500113f28>"
            ]
          },
          "metadata": {
            "tags": []
          },
          "execution_count": 28
        }
      ]
    },
    {
      "cell_type": "markdown",
      "metadata": {
        "id": "oVGLtjcUlrtO",
        "colab_type": "text"
      },
      "source": [
        "## 6. Get Predictions"
      ]
    },
    {
      "cell_type": "code",
      "metadata": {
        "id": "PX8LimgYlrtP",
        "colab_type": "code",
        "colab": {},
        "outputId": "b08856c1-e549-48ed-f20b-0fcca2d4ba5a"
      },
      "source": [
        "# get predictions\n",
        "predictions = model.predict_classes(base_model_pred_valid)\n",
        "#show predictions\n",
        "predictions"
      ],
      "execution_count": null,
      "outputs": [
        {
          "output_type": "execute_result",
          "data": {
            "text/plain": [
              "array([1, 0, 0, 0, 0, 0, 0, 1, 1, 1, 0, 0, 1, 0, 1, 0, 0, 1, 1, 1, 0, 0,\n",
              "       0, 0, 0, 0, 0, 0, 1, 1, 0, 0, 0, 0, 1, 1, 0, 0, 0, 0, 1, 0, 0, 0,\n",
              "       0, 0, 0, 0, 0, 1, 0, 1, 1, 0, 1, 0, 0, 1, 1, 1, 1, 0, 1, 0, 0, 0,\n",
              "       0, 0, 1, 0, 0, 1, 1, 0, 0, 1, 1, 1, 0, 1, 1, 1, 0, 0, 0, 0, 1, 1,\n",
              "       0, 1, 0, 0, 1, 0, 0, 0, 0, 0, 0, 1, 1, 0, 1, 1, 0, 0, 1, 0, 0, 0,\n",
              "       1, 0, 0, 0, 0, 0, 1, 0, 1, 1, 0, 0, 1, 0, 0, 0, 1, 0, 1, 1, 0, 1,\n",
              "       0, 0, 1, 0, 0, 0, 0, 1, 1, 0, 0, 0, 0, 0, 0, 0, 1, 1, 0, 1, 1, 1,\n",
              "       1, 1, 0, 1, 0, 0, 1, 1, 0, 0, 1, 0, 0, 1, 1, 0, 0, 1, 1, 1, 0, 1,\n",
              "       0, 0, 0, 1, 1, 0, 0, 1, 1, 1, 1, 0, 0, 1, 1, 1, 0, 0, 0, 1, 0, 1,\n",
              "       1, 0, 0, 1, 0, 1, 0, 0, 0, 1, 1, 1, 1, 1, 1, 1, 0, 0, 0, 0, 1, 1,\n",
              "       1, 0, 1, 0, 0, 0, 0, 0, 1, 0, 1, 0, 1, 1, 1, 0, 0, 0, 0, 1, 0, 0,\n",
              "       1, 0, 1, 0, 0, 1, 0, 1, 0, 0, 0, 0, 0, 1, 0, 0, 0, 1, 0, 0, 1, 0,\n",
              "       1, 1, 0, 0, 0, 1, 1, 0, 1, 0, 0, 1, 1, 0, 0, 0, 0, 1, 0, 0, 1, 0,\n",
              "       1, 1, 0, 0, 0, 0, 0, 0, 0, 0, 0, 0, 0, 0, 0, 0, 0, 0, 1, 1, 1, 1,\n",
              "       0, 1, 0, 1, 1, 1, 0, 1, 0, 1, 0, 0, 0, 1, 1, 1, 1, 0, 1, 0, 0, 0,\n",
              "       1, 0, 1, 0, 0, 1, 1, 0, 0, 0, 1, 0, 0, 0, 1, 0, 1, 0, 1, 0, 1, 1,\n",
              "       0, 1, 1, 1, 1, 1, 1, 1, 1, 0, 1, 1, 0, 1, 1, 0, 1, 0, 0, 0, 0, 1,\n",
              "       0, 0, 0, 1, 1, 0, 1, 0, 0, 0, 0, 0, 0, 0, 0, 1, 1, 0, 1, 0, 1, 0,\n",
              "       1, 1, 1, 0, 0, 0, 1, 0, 1, 1, 0, 0, 1, 1, 1, 1, 0, 0, 1, 0, 0, 1,\n",
              "       1, 1, 1, 0, 0, 1, 0, 0, 0, 0, 1, 0, 1, 1, 1, 1, 0, 1, 0, 1, 1, 1,\n",
              "       1, 1, 0, 0, 1, 0, 0, 0, 0, 1, 0, 0, 0, 1, 1, 1, 1, 0, 0, 0, 0, 0,\n",
              "       1, 1, 0, 0, 1, 0, 0, 0, 1, 0, 1, 0, 1, 1, 1, 1, 1, 0, 1, 1, 0, 0,\n",
              "       0, 1, 0, 0, 0, 0, 1, 0, 1, 1])"
            ]
          },
          "metadata": {
            "tags": []
          },
          "execution_count": 29
        }
      ]
    },
    {
      "cell_type": "markdown",
      "metadata": {
        "id": "FvIuV0ielrtV",
        "colab_type": "text"
      },
      "source": [
        "## Summary of the video\n",
        "\n",
        "1. <font color='blue'>Import neccessary libraries\n",
        "2. Load the data</font>\n",
        "3. <font color='#999900'>Preprocess the data</font>\n",
        "4. <font color='red'>Load weights of pre-trained model\n",
        "5. Fine tune the model for the current problem</font>\n",
        "6. <font color='blue'>Get predictions</font>"
      ]
    },
    {
      "cell_type": "code",
      "metadata": {
        "id": "h9Jo-mCllrtY",
        "colab_type": "code",
        "colab": {}
      },
      "source": [
        ""
      ],
      "execution_count": null,
      "outputs": []
    }
  ]
}